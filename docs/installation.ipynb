{
 "cells": [
  {
   "cell_type": "markdown",
   "metadata": {},
   "source": [
    "# Installation of Tardis"
   ]
  },
  {
   "cell_type": "markdown",
   "metadata": {},
   "source": [
    "<div class=\"alert alert-warning\">\n",
    "\n",
    "**Warning:** TARDIS is only compatbile with Python >3.6\n",
    "\n",
    "</div>"
   ]
  },
  {
   "cell_type": "markdown",
   "metadata": {},
   "source": [
    "<div class=\"alert alert-info\">\n",
    "\n",
    "**Note:** We strongly recommend to always use the lastest github development version.\n",
    "\n",
    "</div>"
   ]
  },
  {
   "cell_type": "markdown",
   "metadata": {},
   "source": [
    "`Only Compatible with Linux and Max Os`\n",
    "\n",
    "Before Installation you should have either installed **Anaconda** or **Miniconda** <br>\n",
    "# Install [Anaconda](https://www.anaconda.com/distribution/) or [Miniconda](https://docs.conda.io/en/latest/miniconda.html) \n",
    "\n",
    "After setting up the Anaconda environment you will be ready for the next step. We will download the package which are required before installtion"
   ]
  },
  {
   "cell_type": "markdown",
   "metadata": {},
   "source": [
    "**Step 1 :** Downlaod the .yml file from the [Link](https://raw.githubusercontent.com/tardis-sn/tardis/master/tardis_env3.yml) <br>\n",
    "\n",
    "Open the terminal where the **tardis_env3.yml** file is being downloaded and run the command to make an environment with the required packages to run `Tardis`"
   ]
  },
  {
   "cell_type": "code",
   "execution_count": null,
   "metadata": {},
   "outputs": [],
   "source": [
    "conda env create -f tardis_env3.yml"
   ]
  },
  {
   "cell_type": "markdown",
   "metadata": {},
   "source": [
    "**Step 2 :** Activate the new environment that you have created"
   ]
  },
  {
   "cell_type": "code",
   "execution_count": null,
   "metadata": {},
   "outputs": [],
   "source": [
    "conda activate tardis"
   ]
  },
  {
   "cell_type": "markdown",
   "metadata": {},
   "source": [
    "And Can Deactivate it with"
   ]
  },
  {
   "cell_type": "code",
   "execution_count": null,
   "metadata": {},
   "outputs": [],
   "source": [
    "source deactivate"
   ]
  },
  {
   "cell_type": "markdown",
   "metadata": {},
   "source": [
    "Now the environment is created and it is a one time process user don't have to create it when have to use it.<br>\n",
    "\n",
    "**Step 3 :** `This step is for Users.`"
   ]
  },
  {
   "cell_type": "code",
   "execution_count": null,
   "metadata": {},
   "outputs": [],
   "source": [
    "pip install git+https://github.com/tardis-sn/tardis"
   ]
  },
  {
   "cell_type": "markdown",
   "metadata": {},
   "source": [
    "Alternatively, you can manually clone our repository and install TARDIS by:"
   ]
  },
  {
   "cell_type": "code",
   "execution_count": null,
   "metadata": {},
   "outputs": [],
   "source": [
    "git clone https://github.com/tardis-sn/tardis.git\n",
    "cd tardis\n",
    "python setup.py install"
   ]
  },
  {
   "cell_type": "markdown",
   "metadata": {},
   "source": [
    "---\n",
    "# Enabling parallel execution with OpenMP\n",
    "\n",
    "Manually, cloning the repository enables other options such as running the code in parallel (enabling OpenMP). In general we encourage to download the compilers from conda as we then can ensure that they work with TARDIS. Within the TARDIS conda environment do:"
   ]
  },
  {
   "cell_type": "code",
   "execution_count": null,
   "metadata": {},
   "outputs": [],
   "source": [
    "conda install -c conda-forge compilers"
   ]
  },
  {
   "cell_type": "markdown",
   "metadata": {},
   "source": [
    "For macOS:"
   ]
  },
  {
   "cell_type": "code",
   "execution_count": null,
   "metadata": {},
   "outputs": [],
   "source": [
    "conda install -c conda-forge llvm-openmp"
   ]
  },
  {
   "cell_type": "markdown",
   "metadata": {},
   "source": [
    "For Linux:"
   ]
  },
  {
   "cell_type": "code",
   "execution_count": null,
   "metadata": {},
   "outputs": [],
   "source": [
    "conda install -c conda-forge openmp"
   ]
  },
  {
   "cell_type": "markdown",
   "metadata": {},
   "source": [
    "### To compile TARDIS for parallel execution:"
   ]
  },
  {
   "cell_type": "code",
   "execution_count": null,
   "metadata": {},
   "outputs": [],
   "source": [
    "python setup.py install --with-openmp"
   ]
  },
  {
   "cell_type": "markdown",
   "metadata": {},
   "source": [
    "---\n",
    "# Step's for Development Purpose.\n",
    "\n",
    "Development guidelines for TARDIS can be found [here](https://tardis-sn.github.io/tardis/development/index.html)<br>\n"
   ]
  },
  {
   "cell_type": "markdown",
   "metadata": {},
   "source": [
    "Step 1: Fork Tardis and download the clone from your forked reporsitory."
   ]
  },
  {
   "cell_type": "code",
   "execution_count": null,
   "metadata": {},
   "outputs": [],
   "source": [
    "git clone git@github.com:your-user-name/tardis.git\n",
    "cd tardis"
   ]
  },
  {
   "cell_type": "code",
   "execution_count": null,
   "metadata": {},
   "outputs": [],
   "source": [
    "git remote add upstream git://github.com/tardis-sn/tardis.git"
   ]
  },
  {
   "cell_type": "code",
   "execution_count": null,
   "metadata": {},
   "outputs": [],
   "source": [
    "git remote -v show"
   ]
  },
  {
   "cell_type": "markdown",
   "metadata": {},
   "source": [
    "If everything is done that this should be the output. And you are good to go."
   ]
  },
  {
   "cell_type": "code",
   "execution_count": null,
   "metadata": {},
   "outputs": [],
   "source": [
    "upstream   git://github.com/tardis-sn/tardis.git (fetch)\n",
    "upstream   git://github.com/tardis-sn/tardis.git (push)\n",
    "origin     git@github.com:your-user-name/tardis.git (fetch)\n",
    "origin     git@github.com:your-user-name/tardis.git (push)"
   ]
  },
  {
   "cell_type": "markdown",
   "metadata": {},
   "source": [
    "Last step is to run this command and you are good to and detialed Installation is given in this link you can go through this [Link.](https://tardis-sn.github.io/tardis/development/git_workflow.html#installing-tardis-in-develop-mode)"
   ]
  },
  {
   "cell_type": "code",
   "execution_count": null,
   "metadata": {},
   "outputs": [],
   "source": [
    "python setup.py develop"
   ]
  },
  {
   "cell_type": "markdown",
   "metadata": {},
   "source": [
    "---\n",
    "# Installation Troubles (FAQ)"
   ]
  },
  {
   "cell_type": "markdown",
   "metadata": {},
   "source": [
    "We highly encourage with any installation problems to try the recommended install method because this often fix problems. Here are some common problems when installing and their fixes:\n",
    "\n",
    "**Problem**: While building tardis via `python setup.py` build you may encounter the following error:"
   ]
  },
  {
   "cell_type": "code",
   "execution_count": null,
   "metadata": {},
   "outputs": [],
   "source": [
    "error: tardis/montecarlo/montecarlo.c: Could not find C file tardis/montecarlo/montecarlo.c for Cython file tardis/montecarlo/montecarlo.pyx when building extension tardis.montecarlo.montecarlo. Cython must be installed to build from a git checkout."
   ]
  },
  {
   "cell_type": "markdown",
   "metadata": {},
   "source": [
    "**Solution:** There are several solutions to this problem. A clean checkout will help. To clean up your repository please try ```python setup.py``` clean and then ```git clean -dfx``` (**WARNING** will delete any non tardis file in that directory) This will often clean this problem. If it still persists:<br>\n",
    "\n",
    "Go into the tardis/montecarlo directory and build montecarlo.c by hand:"
   ]
  },
  {
   "cell_type": "code",
   "execution_count": null,
   "metadata": {},
   "outputs": [],
   "source": [
    "cython montecarlo.pyx"
   ]
  },
  {
   "cell_type": "markdown",
   "metadata": {},
   "source": [
    "Then, `python setup.py` build should run without problems."
   ]
  },
  {
   "cell_type": "markdown",
   "metadata": {},
   "source": [
    "**Problem**: when trying to set up `CC=gcc python setup.py develop –with-openmp` the following error popped up:\n",
    "\n",
    "from tardis/_compiler.c:1: /Users/yssavo/miniconda2/envs/tardis-show2/lib/gcc/x86_64-apple-darwin13.4.0/5.2.0/include-fixed/limits.h:168:61: fatal error: limits.h: No such file or directory\n",
    "\n",
    "**Solution**: Run on terminal:"
   ]
  },
  {
   "cell_type": "code",
   "execution_count": null,
   "metadata": {},
   "outputs": [],
   "source": [
    "open /Library/Developer/CommandLineTools/Packages/macOS_SDK_headers_for_macOS_10.14.pkg"
   ]
  },
  {
   "cell_type": "markdown",
   "metadata": {},
   "source": [
    "**Problem**: Symbol not found: _GOMP_parallel when compiling with –with-openmp\n",
    "\n",
    "**Solution**: Install gcc8 from macports and then install with these flags: link_args = [‘-fopenmp’,’-Wl,-rpath,/opt/local/lib/gcc8/’]\n"
   ]
  },
  {
   "cell_type": "markdown",
   "metadata": {},
   "source": [
    "**Problem**: While building tardis(via python 2.7) via `python setup.py` build you may encounter the following error:"
   ]
  },
  {
   "cell_type": "code",
   "execution_count": null,
   "metadata": {},
   "outputs": [],
   "source": [
    "TypeError: super() argument 1 must be type, not None\n",
    "\n",
    "----------------------------------------\n",
    "Command \"python setup.py egg_info\" failed with error code 1 in /tmp/pip-req-build-wPB39p/"
   ]
  },
  {
   "cell_type": "markdown",
   "metadata": {},
   "source": [
    "**Solution**: The cause for this problem is sphinx , or sphinx version . It can be easily solved by installing sphinx 1.5.6.\n",
    "\n",
    "The command for the same is :"
   ]
  },
  {
   "cell_type": "code",
   "execution_count": null,
   "metadata": {},
   "outputs": [],
   "source": [
    "pip install sphinx==1.5.6"
   ]
  },
  {
   "cell_type": "markdown",
   "metadata": {},
   "source": [
    "or"
   ]
  },
  {
   "cell_type": "code",
   "execution_count": null,
   "metadata": {},
   "outputs": [],
   "source": [
    "conda install sphinx==1.5.6"
   ]
  },
  {
   "cell_type": "markdown",
   "metadata": {},
   "source": [
    "Then, python setup.py build install should run without problems."
   ]
  }
 ],
 "metadata": {
  "kernelspec": {
   "display_name": "Python 3",
   "language": "python",
   "name": "python3"
  },
  "language_info": {
   "codemirror_mode": {
    "name": "ipython",
    "version": 3
   },
   "file_extension": ".py",
   "mimetype": "text/x-python",
   "name": "python",
   "nbconvert_exporter": "python",
   "pygments_lexer": "ipython3",
   "version": "3.6.7"
  }
 },
 "nbformat": 4,
 "nbformat_minor": 4
}
